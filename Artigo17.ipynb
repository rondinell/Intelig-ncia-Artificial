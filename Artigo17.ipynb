{
  "nbformat": 4,
  "nbformat_minor": 0,
  "metadata": {
    "colab": {
      "provenance": [],
      "authorship_tag": "ABX9TyMECLJ0wSWtvCwNpqC+7DQz",
      "include_colab_link": true
    },
    "kernelspec": {
      "name": "python3",
      "display_name": "Python 3"
    },
    "language_info": {
      "name": "python"
    }
  },
  "cells": [
    {
      "cell_type": "markdown",
      "metadata": {
        "id": "view-in-github",
        "colab_type": "text"
      },
      "source": [
        "<a href=\"https://colab.research.google.com/github/rondinell/Intelig-ncia-Artificial/blob/main/Artigo17.ipynb\" target=\"_parent\"><img src=\"https://colab.research.google.com/assets/colab-badge.svg\" alt=\"Open In Colab\"/></a>"
      ]
    },
    {
      "cell_type": "code",
      "execution_count": 4,
      "metadata": {
        "colab": {
          "base_uri": "https://localhost:8080/"
        },
        "id": "8UuPQJVGoGLp",
        "outputId": "84477afe-41b9-45f5-f5e7-21ba14582659"
      },
      "outputs": [
        {
          "output_type": "stream",
          "name": "stdout",
          "text": [
            "Instalando e importando bibliotecas...\n"
          ]
        },
        {
          "output_type": "stream",
          "name": "stderr",
          "text": [
            "[*********************100%***********************]  2 of 2 completed"
          ]
        },
        {
          "output_type": "stream",
          "name": "stdout",
          "text": [
            "Bibliotecas carregadas com sucesso!\n",
            "\n",
            "Definindo os ativos e o período de análise.\n",
            "Ativo em análise: SNEL11.SA\n",
            "Benchmark de mercado: ^BVSP\n",
            "Período: 2023-08-20 a 2025-08-19\n",
            "\n",
            "Baixando dados históricos...\n",
            "Dados processados. Total de 418 dias de negociação analisados.\n",
            "\n",
            "Calculando as métricas de risco...\n",
            "\n",
            "============================================================\n",
            " ANÁLISE DE RISCO PARA SNEL11.SA vs. IBOVESPA\n",
            "============================================================\n",
            "\n",
            "1. Volatilidade Anualizada do Ativo:\n",
            "-> 42.98%\n",
            "   (Quanto menor, mais estável é o preço do ativo).\n",
            "\n",
            "2. Beta (β) do Ativo:\n",
            "-> -0.08\n",
            "   (Valores abaixo de 1.0 indicam que o ativo é menos volátil que o mercado).\n",
            "\n",
            "============================================================\n",
            "Conclusão da Análise:\n",
            "O Beta de -0.08 sugere que o SNEL11.SA tem um perfil de risco mais conservador\n",
            "e tende a ser menos volátil que o mercado em geral (Ibovespa).\n",
            "============================================================\n"
          ]
        },
        {
          "output_type": "stream",
          "name": "stderr",
          "text": [
            "\n"
          ]
        }
      ],
      "source": [
        "# ========================================================================\n",
        "# Artigo 17: Análise de Risco do Ativo SNEL11.SA\n",
        "# Autor: Rondinelli Alves de Andrade, com assistência de IA\n",
        "# Data: 19 de Agosto de 2025\n",
        "#\n",
        "# Descrição: Este código tem como objetivo analisar o risco de um ativo\n",
        "# de infraestrutura (SNEL11.SA) em comparação com o mercado geral (Ibovespa).\n",
        "# Calculamos duas métricas principais: a Volatilidade e o Beta.\n",
        "# ========================================================================\n",
        "\n",
        "# ========================================================================\n",
        "# Parte 1: INSTALAÇÃO E IMPORTAÇÕES\n",
        "# ========================================================================\n",
        "print(\"Instalando e importando bibliotecas...\")\n",
        "!pip install yfinance --quiet\n",
        "import yfinance as yf\n",
        "import pandas as pd\n",
        "import numpy as np\n",
        "from datetime import date, timedelta\n",
        "\n",
        "print(\"Bibliotecas carregadas com sucesso!\")\n",
        "\n",
        "# ===================================================================\n",
        "# Parte 2: CONFIGURAÇÕES GLOBAIS\n",
        "# ===================================================================\n",
        "print(\"\\nDefinindo os ativos e o período de análise.\")\n",
        "\n",
        "# Ativo que queremos analisar\n",
        "TICKER_ATIVO = 'SNEL11.SA'\n",
        "\n",
        "# O benchmark do mercado brasileiro (Ibovespa)\n",
        "TICKER_MERCADO = '^BVSP'\n",
        "\n",
        "# Período de análise (últimos 2 anos)\n",
        "END_DATE = date.today().strftime(\"%Y-%m-%d\")\n",
        "START_DATE = (date.today() - timedelta(days=2*365)).strftime(\"%Y-%m-%d\")\n",
        "\n",
        "print(f\"Ativo em análise: {TICKER_ATIVO}\")\n",
        "print(f\"Benchmark de mercado: {TICKER_MERCADO}\")\n",
        "print(f\"Período: {START_DATE} a {END_DATE}\")\n",
        "\n",
        "# =====================================================================\n",
        "# Parte 3: DOWNLOAD E PROCESSAMENTO DOS DADOS\n",
        "# =====================================================================\n",
        "print(\"\\nBaixando dados históricos...\")\n",
        "dados = yf.download([TICKER_ATIVO, TICKER_MERCADO],\n",
        "                    start=START_DATE,\n",
        "                    end=END_DATE,\n",
        "                    auto_adjust=True)['Close']\n",
        "\n",
        "# Renomear colunas para facilitar o acesso\n",
        "dados.rename(columns={TICKER_ATIVO: 'Ativo', TICKER_MERCADO: 'Mercado'}, inplace=True)\n",
        "\n",
        "# Remover dias em que algum dos ativos não teve negociação\n",
        "dados.dropna(inplace=True)\n",
        "\n",
        "# Calcular os retornos diários (variação percentual de um dia para o outro)\n",
        "retornos = dados.pct_change().dropna()\n",
        "\n",
        "print(f\"Dados processados. Total de {len(retornos)} dias de negociação analisados.\")\n",
        "\n",
        "# =======================================================================\n",
        "# Parte 4: CÁLCULO DAS MÉTRICAS DE RISCO\n",
        "# =======================================================================\n",
        "print(\"\\nCalculando as métricas de risco...\")\n",
        "\n",
        "# --- 1. Volatilidade Anualizada ---\n",
        "# O que é a Volatilidade? É o desvio padrão dos retornos. Uma volatilidade\n",
        "# alta significa que os preços variam muito (mais risco). A multiplicamos\n",
        "# por sqrt(252) para anualizar a medida (252 é o número aproximado de\n",
        "# dias de negociação em um ano).\n",
        "volatilidade_ativo = retornos['Ativo'].std() * np.sqrt(252)\n",
        "\n",
        "# --- 2. Beta (β) ---\n",
        "# O que é o Beta? Mede a sensibilidade do ativo em relação ao mercado.\n",
        "# Beta = 1: O ativo se move em linha com o mercado.\n",
        "# Beta > 1: O ativo é mais volátil que o mercado (mais risco).\n",
        "# Beta < 1: O ativo é menos volátil que o mercado (menos risco).\n",
        "covariancia = retornos.cov().iloc[0, 1]\n",
        "variancia_mercado = retornos['Mercado'].var()\n",
        "beta = covariancia / variancia_mercado\n",
        "\n",
        "# =======================================================================\n",
        "# Parte 5: EXIBIÇÃO DOS RESULTADOS\n",
        "# =======================================================================\n",
        "print(\"\\n\" + \"=\"*60)\n",
        "print(f\" ANÁLISE DE RISCO PARA {TICKER_ATIVO} vs. IBOVESPA\")\n",
        "print(\"=\"*60)\n",
        "print(f\"\\n1. Volatilidade Anualizada do Ativo:\")\n",
        "print(f\"-> {volatilidade_ativo:.2%}\")\n",
        "print(\"   (Quanto menor, mais estável é o preço do ativo).\")\n",
        "\n",
        "print(f\"\\n2. Beta (β) do Ativo:\")\n",
        "print(f\"-> {beta:.2f}\")\n",
        "print(\"   (Valores abaixo de 1.0 indicam que o ativo é menos volátil que o mercado).\")\n",
        "\n",
        "print(\"\\n\" + \"=\"*60)\n",
        "print(\"Conclusão da Análise:\")\n",
        "if beta < 1:\n",
        "    print(f\"O Beta de {beta:.2f} sugere que o {TICKER_ATIVO} tem um perfil de risco mais conservador\")\n",
        "    print(\"e tende a ser menos volátil que o mercado em geral (Ibovespa).\")\n",
        "else:\n",
        "    print(f\"O Beta de {beta:.2f} sugere que o {TICKER_ATIVO} tem um perfil de risco mais agressivo\")\n",
        "    print(\"e tende a ser mais volátil que o mercado em geral (Ibovespa).\")\n",
        "print(\"=\"*60)"
      ]
    }
  ]
}