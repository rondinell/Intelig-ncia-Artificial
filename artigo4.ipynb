{
  "nbformat": 4,
  "nbformat_minor": 0,
  "metadata": {
    "colab": {
      "provenance": [],
      "authorship_tag": "ABX9TyM8lg5UUhJF4hoXH/C112+d",
      "include_colab_link": true
    },
    "kernelspec": {
      "name": "python3",
      "display_name": "Python 3"
    },
    "language_info": {
      "name": "python"
    }
  },
  "cells": [
    {
      "cell_type": "markdown",
      "metadata": {
        "id": "view-in-github",
        "colab_type": "text"
      },
      "source": [
        "<a href=\"https://colab.research.google.com/github/rondinell/Intelig-ncia-Artificial/blob/main/artigo4.ipynb\" target=\"_parent\"><img src=\"https://colab.research.google.com/assets/colab-badge.svg\" alt=\"Open In Colab\"/></a>"
      ]
    },
    {
      "cell_type": "code",
      "execution_count": 6,
      "metadata": {
        "colab": {
          "base_uri": "https://localhost:8080/"
        },
        "id": "qtTjQvI-vNgX",
        "outputId": "e70e5743-ca5b-44a1-f5e6-f9136e008915"
      },
      "outputs": [
        {
          "output_type": "stream",
          "name": "stdout",
          "text": [
            "Requirement already satisfied: gnews in /usr/local/lib/python3.11/dist-packages (0.4.1)\n",
            "Requirement already satisfied: feedparser~=6.0.2 in /usr/local/lib/python3.11/dist-packages (from gnews) (6.0.11)\n",
            "Requirement already satisfied: beautifulsoup4<5,>=4.9.3 in /usr/local/lib/python3.11/dist-packages (from gnews) (4.13.4)\n",
            "Requirement already satisfied: dnspython in /usr/local/lib/python3.11/dist-packages (from gnews) (2.7.0)\n",
            "Requirement already satisfied: requests in /usr/local/lib/python3.11/dist-packages (from gnews) (2.32.3)\n",
            "Requirement already satisfied: soupsieve>1.2 in /usr/local/lib/python3.11/dist-packages (from beautifulsoup4<5,>=4.9.3->gnews) (2.7)\n",
            "Requirement already satisfied: typing-extensions>=4.0.0 in /usr/local/lib/python3.11/dist-packages (from beautifulsoup4<5,>=4.9.3->gnews) (4.13.2)\n",
            "Requirement already satisfied: sgmllib3k in /usr/local/lib/python3.11/dist-packages (from feedparser~=6.0.2->gnews) (1.0.0)\n",
            "Requirement already satisfied: charset-normalizer<4,>=2 in /usr/local/lib/python3.11/dist-packages (from requests->gnews) (3.4.2)\n",
            "Requirement already satisfied: idna<4,>=2.5 in /usr/local/lib/python3.11/dist-packages (from requests->gnews) (3.10)\n",
            "Requirement already satisfied: urllib3<3,>=1.21.1 in /usr/local/lib/python3.11/dist-packages (from requests->gnews) (2.4.0)\n",
            "Requirement already satisfied: certifi>=2017.4.17 in /usr/local/lib/python3.11/dist-packages (from requests->gnews) (2025.4.26)\n",
            "1. Por que junho pode ser um mês de correção do Ibovespa, segundo a XP - InfoMoney\n",
            "2. Ibovespa abre em alta liderada por Gerdau - UOL Economia\n",
            "3. Ibovespa opera de lado e Gerdau (GGBR4) sobe com novas tarifas de Trump - Money Times\n",
            "4. Ibovespa reduz fôlego após superar 138 mil pontos; Gerdau sobe - terra.com.br\n",
            "5. Estas são as melhores ações para investir em junho, segundo bancos e corretoras - Estadão E-Investidor\n",
            "6. Ibovespa ignora Trump e descola do exterior com alta do Petróleo - VEJA\n",
            "7. Dólar tem queda após ameaças tarifárias de Trump; Ibovespa sobe - CNN Brasil\n",
            "8. Com 'mundaréu' de dinheiro gringo chegando à bolsa brasileira, Ibovespa aos 140 mil é só o começo, afirma gestor da Bradesco Asset - Seu Dinheiro\n",
            "9. Meio-Dia Mercado: Ibovespa operava no campo positivo, os mercados americanos no negativo com novas ameaças de tarifas - ADVFN\n",
            "10. Estudo do Ibovespa, Vale3, Petr4, Vivt3, Pomo4 e de Suzb3 - financenews.com.br\n",
            "11. 8 ações sobem mais de 18% e 6 caem ao menos 14%: os destaques do Ibovespa em maio - InfoMoney\n",
            "12. Ibovespa emenda 3ª queda, mas acumula alta em maio após máximas históricas - UOL Economia\n",
            "13. Veja as 10 maiores quedas do Ibovespa em maio - Valor Investe\n",
            "14. Ibovespa hoje, WINM25, WDON25, PETR4, VALE3 e mais AZZA3 +3,71% - Investing.com Brasil - Finanças, Câmbio e Investimentos\n",
            "15. Ibovespa Ao Vivo: Bolsa sobe com GGBR4, GOUA4, PETR4 e MGLU3 - InfoMoney\n",
            "16. Dólar opera em queda em meio a crise do IOF, nota da Moody's e tarifas; Ibovespa sobe - G1\n",
            "17. Ibovespa sobe com impulso da Petrobras; dólar cai a R$ 5,67 com tensões comerciais - Bloomberg Linea Brasil\n",
            "18. É o fim do rali? Entenda por que a XP acredita que o Ibovespa deve sofrer correção - Estadão E-Investidor\n",
            "19. Ibovespa abre próximo da estabilidade; dólar tem queda expressiva - Exame\n",
            "20. Ibovespa sobe puxado por alta do petróleo enquanto Trump ameaça impor novas tarifas - Estadão E-Investidor\n",
            "21. Ibovespa vai se salvando em dia negativo no exterior - Valor Investe\n",
            "22. Ibovespa recua 1% após PIB forte e com incerteza sobre trajetória da Selic - Valor Econômico\n",
            "23. Ibovespa fecha com queda, após tarifas, IOF e rodada de dados nos EUA e Brasil - InfoMoney\n",
            "24. Payroll, Livro Bege e PMIs movimentam Ibovespa, bolsas dos EUA e bitcoin na semana - InfoMoney\n",
            "25. Day Trade hoje: o que esperar dos minicontratos e do Ibovespa nesta segunda (02) - InfoMoney\n"
          ]
        }
      ],
      "source": [
        "# Instalar a biblioteca gnews\n",
        "!pip install gnews\n",
        "\n",
        "# GNews\n",
        "from gnews import GNews\n",
        "\n",
        "# Configurar o cliente do GNews\n",
        "google_news = GNews(language='pt', country='BR', max_results=25)\n",
        "\n",
        "# Buscar notícias sobre 'Bolsa'\n",
        "noticias = google_news.get_news('Ibovespa')\n",
        "\n",
        "# Extrair os títulos das notícias\n",
        "frases_Ibovespa = [noticia['title'] for noticia in noticias]\n",
        "\n",
        "# Exibir as manchetes coletadas\n",
        "for i, frase in enumerate(frases_Ibovespa, 1):\n",
        "    print(f\"{i}. {frase}\")\n",
        "\n",
        "# Nota: As células subsequentes para análise de sentimento e visualização também precisarão\n",
        "# das suas respectivas bibliotecas instaladas (transformers e matplotlib/collections).\n",
        "# Certifique-se de que elas também estejam instaladas se você ainda não o fez.\n",
        "# Exemplo para transformers: !pip install transformers\n",
        "# Exemplo para matplotlib: !pip install matplotlib"
      ]
    },
    {
      "cell_type": "code",
      "source": [
        "from transformers import pipeline\n",
        "\n",
        "# Carregar o pipeline de análise de sentimentos\n",
        "analisador = pipeline(\"sentiment-analysis\", model=\"nlptown/bert-base-multilingual-uncased-sentiment\")\n",
        "\n",
        "# Analisar o sentimento de cada frase\n",
        "resultados = analisador(frases_Ibovespa)\n",
        "\n",
        "# Exibir os resultados\n",
        "for frase, resultado in zip(frases_Ibovespa, resultados):\n",
        "    print(f\"Frase: {frase}\")\n",
        "    print(f\"Sentimento: {resultado['label']}, Score: {resultado['score']:.2f}\\n\")\n"
      ],
      "metadata": {
        "colab": {
          "base_uri": "https://localhost:8080/"
        },
        "id": "KnPh_WayvO7g",
        "outputId": "2a18d572-076f-4faa-aa2f-6106cbf53a47"
      },
      "execution_count": 8,
      "outputs": [
        {
          "output_type": "stream",
          "name": "stderr",
          "text": [
            "Device set to use cpu\n"
          ]
        },
        {
          "output_type": "stream",
          "name": "stdout",
          "text": [
            "Frase: Por que junho pode ser um mês de correção do Ibovespa, segundo a XP - InfoMoney\n",
            "Sentimento: 1 star, Score: 0.29\n",
            "\n",
            "Frase: Ibovespa abre em alta liderada por Gerdau - UOL Economia\n",
            "Sentimento: 5 stars, Score: 0.35\n",
            "\n",
            "Frase: Ibovespa opera de lado e Gerdau (GGBR4) sobe com novas tarifas de Trump - Money Times\n",
            "Sentimento: 1 star, Score: 0.40\n",
            "\n",
            "Frase: Ibovespa reduz fôlego após superar 138 mil pontos; Gerdau sobe - terra.com.br\n",
            "Sentimento: 1 star, Score: 0.38\n",
            "\n",
            "Frase: Estas são as melhores ações para investir em junho, segundo bancos e corretoras - Estadão E-Investidor\n",
            "Sentimento: 5 stars, Score: 0.77\n",
            "\n",
            "Frase: Ibovespa ignora Trump e descola do exterior com alta do Petróleo - VEJA\n",
            "Sentimento: 1 star, Score: 0.49\n",
            "\n",
            "Frase: Dólar tem queda após ameaças tarifárias de Trump; Ibovespa sobe - CNN Brasil\n",
            "Sentimento: 1 star, Score: 0.72\n",
            "\n",
            "Frase: Com 'mundaréu' de dinheiro gringo chegando à bolsa brasileira, Ibovespa aos 140 mil é só o começo, afirma gestor da Bradesco Asset - Seu Dinheiro\n",
            "Sentimento: 1 star, Score: 0.71\n",
            "\n",
            "Frase: Meio-Dia Mercado: Ibovespa operava no campo positivo, os mercados americanos no negativo com novas ameaças de tarifas - ADVFN\n",
            "Sentimento: 1 star, Score: 0.40\n",
            "\n",
            "Frase: Estudo do Ibovespa, Vale3, Petr4, Vivt3, Pomo4 e de Suzb3 - financenews.com.br\n",
            "Sentimento: 4 stars, Score: 0.32\n",
            "\n",
            "Frase: 8 ações sobem mais de 18% e 6 caem ao menos 14%: os destaques do Ibovespa em maio - InfoMoney\n",
            "Sentimento: 1 star, Score: 0.70\n",
            "\n",
            "Frase: Ibovespa emenda 3ª queda, mas acumula alta em maio após máximas históricas - UOL Economia\n",
            "Sentimento: 2 stars, Score: 0.34\n",
            "\n",
            "Frase: Veja as 10 maiores quedas do Ibovespa em maio - Valor Investe\n",
            "Sentimento: 1 star, Score: 0.71\n",
            "\n",
            "Frase: Ibovespa hoje, WINM25, WDON25, PETR4, VALE3 e mais AZZA3 +3,71% - Investing.com Brasil - Finanças, Câmbio e Investimentos\n",
            "Sentimento: 1 star, Score: 0.29\n",
            "\n",
            "Frase: Ibovespa Ao Vivo: Bolsa sobe com GGBR4, GOUA4, PETR4 e MGLU3 - InfoMoney\n",
            "Sentimento: 1 star, Score: 0.25\n",
            "\n",
            "Frase: Dólar opera em queda em meio a crise do IOF, nota da Moody's e tarifas; Ibovespa sobe - G1\n",
            "Sentimento: 1 star, Score: 0.71\n",
            "\n",
            "Frase: Ibovespa sobe com impulso da Petrobras; dólar cai a R$ 5,67 com tensões comerciais - Bloomberg Linea Brasil\n",
            "Sentimento: 1 star, Score: 0.69\n",
            "\n",
            "Frase: É o fim do rali? Entenda por que a XP acredita que o Ibovespa deve sofrer correção - Estadão E-Investidor\n",
            "Sentimento: 1 star, Score: 0.33\n",
            "\n",
            "Frase: Ibovespa abre próximo da estabilidade; dólar tem queda expressiva - Exame\n",
            "Sentimento: 1 star, Score: 0.48\n",
            "\n",
            "Frase: Ibovespa sobe puxado por alta do petróleo enquanto Trump ameaça impor novas tarifas - Estadão E-Investidor\n",
            "Sentimento: 1 star, Score: 0.57\n",
            "\n",
            "Frase: Ibovespa vai se salvando em dia negativo no exterior - Valor Investe\n",
            "Sentimento: 1 star, Score: 0.59\n",
            "\n",
            "Frase: Ibovespa recua 1% após PIB forte e com incerteza sobre trajetória da Selic - Valor Econômico\n",
            "Sentimento: 1 star, Score: 0.36\n",
            "\n",
            "Frase: Ibovespa fecha com queda, após tarifas, IOF e rodada de dados nos EUA e Brasil - InfoMoney\n",
            "Sentimento: 1 star, Score: 0.67\n",
            "\n",
            "Frase: Payroll, Livro Bege e PMIs movimentam Ibovespa, bolsas dos EUA e bitcoin na semana - InfoMoney\n",
            "Sentimento: 1 star, Score: 0.40\n",
            "\n",
            "Frase: Day Trade hoje: o que esperar dos minicontratos e do Ibovespa nesta segunda (02) - InfoMoney\n",
            "Sentimento: 5 stars, Score: 0.35\n",
            "\n"
          ]
        }
      ]
    },
    {
      "cell_type": "code",
      "source": [
        "import matplotlib.pyplot as plt\n",
        "from collections import Counter\n",
        "\n",
        "# Contar a frequência de cada sentimento\n",
        "sentimentos = [resultado['label'] for resultado in resultados]\n",
        "contagem_sentimentos = Counter(sentimentos)\n",
        "\n",
        "# Preparar os dados para o gráfico\n",
        "labels = contagem_sentimentos.keys()\n",
        "valores = contagem_sentimentos.values()\n",
        "\n",
        "# Criar o gráfico de barras\n",
        "plt.figure(figsize=(8, 5))\n",
        "plt.bar(labels, valores, color='skyblue')\n",
        "plt.title(\"Distribuição de Sentimentos das Menções a 'Ibovespa'\")\n",
        "plt.xlabel(\"Sentimento\")\n",
        "plt.ylabel(\"Quantidade de Manchetes\")\n",
        "plt.grid(axis='y', linestyle='--', alpha=0.7)\n",
        "plt.tight_layout()\n",
        "plt.show()\n"
      ],
      "metadata": {
        "colab": {
          "base_uri": "https://localhost:8080/",
          "height": 507
        },
        "id": "zHGcbYPbvRVB",
        "outputId": "0eb83c19-e3eb-4922-835a-fe4ee3f6d0c4"
      },
      "execution_count": 9,
      "outputs": [
        {
          "output_type": "display_data",
          "data": {
            "text/plain": [
              "<Figure size 800x500 with 1 Axes>"
            ],
            "image/png": "[encoded data removed]"
          },
          "metadata": {}
        }
      ]
    }
  ]
}