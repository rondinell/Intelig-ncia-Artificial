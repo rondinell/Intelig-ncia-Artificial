{
  "nbformat": 4,
  "nbformat_minor": 0,
  "metadata": {
    "colab": {
      "provenance": [],
      "authorship_tag": "ABX9TyPPJoD2VBWqcEeDx58GS+0j",
      "include_colab_link": true
    },
    "kernelspec": {
      "name": "python3",
      "display_name": "Python 3"
    },
    "language_info": {
      "name": "python"
    }
  },
  "cells": [
    {
      "cell_type": "markdown",
      "metadata": {
        "id": "view-in-github",
        "colab_type": "text"
      },
      "source": [
        "<a href=\"https://colab.research.google.com/github/rondinell/Intelig-ncia-Artificial/blob/main/codigo2_livro2.ipynb\" target=\"_parent\"><img src=\"https://colab.research.google.com/assets/colab-badge.svg\" alt=\"Open In Colab\"/></a>"
      ]
    },
    {
      "cell_type": "code",
      "source": [
        "# 1. Importação das Bibliotecas Essenciais\n",
        "import numpy as np\n",
        "from tensorflow.keras.models import Sequential\n",
        "from tensorflow.keras.layers import LSTM, Dense\n",
        "\n",
        "# 2. Preparação dos Dados\n",
        "# Imagine que esta é uma sequência de preços de fechamento de uma ação durante 10 dias.\n",
        "dados_brutos = [10, 15, 12, 18, 20, 17, 22, 25, 23, 28]\n",
        "\n",
        "# Quantos passos de tempo (dias) usaremos para fazer uma previsão?\n",
        "passos_tempo = 3\n",
        "\n",
        "# Função para transformar os dados em amostras de treino (X) e saídas (y)\n",
        "def preparar_sequencias(dados, n_passos):\n",
        "    X, y = [], []\n",
        "    for i in range(len(dados)):\n",
        "        # Encontra o final da sequência de entrada\n",
        "        fim_ix = i + n_passos\n",
        "        # Verifica se já passamos do final da lista de dados\n",
        "        if fim_ix > len(dados)-1:\n",
        "            break\n",
        "        # Extrai a sequência de entrada (X) e o valor de saída (y)\n",
        "        seq_x, seq_y = dados[i:fim_ix], dados[fim_ix]\n",
        "        X.append(seq_x)\n",
        "        y.append(seq_y)\n",
        "    return np.array(X), np.array(y)\n",
        "\n",
        "# Prepara os dados de treino\n",
        "X, y = preparar_sequencias(dados_brutos, passos_tempo)\n",
        "\n",
        "# 3. Remodelagem dos Dados para a LSTM\n",
        "# A LSTM espera uma entrada 3D no formato: [amostras, passos_de_tempo, caracteristicas]\n",
        "n_caracteristicas = 1\n",
        "X = X.reshape((X.shape[0], X.shape[1], n_caracteristicas))\n",
        "\n",
        "# 4. Construção do Modelo LSTM\n",
        "print(\"Construindo o modelo LSTM...\")\n",
        "modelo = Sequential()\n",
        "# Adiciona a camada LSTM com 50 neurônios (unidades)\n",
        "modelo.add(LSTM(50, activation='relu', input_shape=(passos_tempo, n_caracteristicas)))\n",
        "# Adiciona a camada de saída com 1 neurônio para prever o próximo valor\n",
        "modelo.add(Dense(1))\n",
        "\n",
        "# 5. Compilação do Modelo\n",
        "# Define como o modelo vai aprender (otimizador) e como medir o erro (função de perda)\n",
        "modelo.compile(optimizer='adam', loss='mse') # mse = mean squared error (erro quadrático médio)\n",
        "\n",
        "# 6. Treinamento do Modelo\n",
        "print(\"Treinando o modelo...\")\n",
        "# O modelo vai \"olhar\" para os dados 200 vezes (epochs)\n",
        "modelo.fit(X, y, epochs=200, verbose=0) # verbose=0 para não poluir a saída\n",
        "\n",
        "# 7. Realização de uma Previsão\n",
        "print(\"\\nTreinamento concluído. Fazendo uma previsão...\")\n",
        "\n",
        "# Vamos usar os últimos 3 dias da nossa sequência original para prever o próximo\n",
        "# Últimos 3 dias: [25, 23, 28]\n",
        "dados_para_prever = np.array([25, 23, 28])\n",
        "# Remodelar os dados para o formato que o modelo espera\n",
        "dados_para_prever = dados_para_prever.reshape((1, passos_tempo, n_caracteristicas))\n",
        "\n",
        "# Fazer a previsão\n",
        "previsao = modelo.predict(dados_para_prever, verbose=0)\n",
        "\n",
        "print(f\"Dados de entrada para previsão: [25, 23, 28]\")\n",
        "print(f\"Previsão para o próximo dia: {previsao[0][0]:.2f}\")"
      ],
      "metadata": {
        "colab": {
          "base_uri": "https://localhost:8080/"
        },
        "id": "NjS4oVKiE7lo",
        "outputId": "c7db563b-720a-4e8d-f325-8d96ace542be"
      },
      "execution_count": 1,
      "outputs": [
        {
          "output_type": "stream",
          "name": "stdout",
          "text": [
            "Construindo o modelo LSTM...\n",
            "Treinando o modelo...\n"
          ]
        },
        {
          "output_type": "stream",
          "name": "stderr",
          "text": [
            "/usr/local/lib/python3.12/dist-packages/keras/src/layers/rnn/rnn.py:199: UserWarning: Do not pass an `input_shape`/`input_dim` argument to a layer. When using Sequential models, prefer using an `Input(shape)` object as the first layer in the model instead.\n",
            "  super().__init__(**kwargs)\n"
          ]
        },
        {
          "output_type": "stream",
          "name": "stdout",
          "text": [
            "\n",
            "Treinamento concluído. Fazendo uma previsão...\n",
            "Dados de entrada para previsão: [25, 23, 28]\n",
            "Previsão para o próximo dia: 28.89\n"
          ]
        }
      ]
    }
  ]
}